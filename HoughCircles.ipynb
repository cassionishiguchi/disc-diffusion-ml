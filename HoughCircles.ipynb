{
 "cells": [
  {
   "cell_type": "code",
   "execution_count": null,
   "id": "8f243406-1ea3-4596-b386-6d00d6aaf992",
   "metadata": {},
   "outputs": [],
   "source": [
    "import cv2\n",
    "import os\n",
    "import numpy as np"
   ]
  },
  {
   "cell_type": "code",
   "execution_count": null,
   "id": "e59a93d1",
   "metadata": {},
   "outputs": [],
   "source": [
    "img = cv2.imread(os.path.join(\"datasets\", \"disc_diffusion.jpg\"))\n",
    "output = img.copy()"
   ]
  },
  {
   "cell_type": "code",
   "execution_count": null,
   "id": "018309e4",
   "metadata": {},
   "outputs": [],
   "source": [
    "#Convert image to Grayscale\n",
    "gray = cv2.cvtColor(img,cv2.COLOR_BGR2GRAY)"
   ]
  },
  {
   "cell_type": "code",
   "execution_count": null,
   "id": "ab28c43f",
   "metadata": {},
   "outputs": [],
   "source": [
    "#Blur image\n",
    "gray = cv2.GaussianBlur(gray, (3,3), 0)"
   ]
  },
  {
   "cell_type": "code",
   "execution_count": null,
   "id": "b27819b4",
   "metadata": {},
   "outputs": [],
   "source": [
    "#Canny edge detection\n",
    "edges = cv2.Canny(gray, 50, 200)\n",
    "cv2.imshow('edges', edges)"
   ]
  },
  {
   "cell_type": "code",
   "execution_count": null,
   "id": "47e6acb8",
   "metadata": {},
   "outputs": [],
   "source": [
    "# # detect circles\n",
    "circles = cv2.HoughCircles(image=gray,\n",
    "                            method=cv2.HOUGH_GRADIENT, \n",
    "                            dp=1.1, \n",
    "                            param1=57,\n",
    "                            param2=35, \n",
    "                            minDist=30, \n",
    "                            minRadius=8, \n",
    "                            maxRadius=60)\n",
    "\n",
    "rcircles = np.uint16(np.around(circles))\n",
    "\n",
    "if circles is not None:\n",
    "    circles = np.round(circles[0, :]).astype(\"int\")\n",
    "    print (\"Number of circles:\", len(circles))\n",
    "\n",
    "    # Count circles\n",
    "    count=1 \n",
    "    for (x, y, r) in circles:\n",
    "        #Calculate radius in mm:\n",
    "        r_mm = round(r/53.3, 2)\n",
    "        # Create outer circle\n",
    "        cv2.circle(output, (x,y), r, (0, 0, 0), 1)\n",
    "        # Create center rectangle\n",
    "        cv2.rectangle(output, (x-2, y-2), (x+2, y+2), (0,255,0), -1)\n",
    "        # Add radius to center\n",
    "        cv2.putText(output, str(r_mm), \n",
    "                    (x-15, y-5), \n",
    "                    cv2.FONT_HERSHEY_COMPLEX_SMALL, \n",
    "                    0.7, (0, 0, 0), 1)\n",
    "        # Print the radius of detected circles in pixels and mm\n",
    "        print ('c' + str(count) + ' ' + str(r_mm) + ' ' + str(r))\n",
    "        count += 1\n",
    "\n",
    "    cv2.imshow(\"output\", np.hstack([img, output]))\n",
    "    cv2.waitKey(0)"
   ]
  }
 ],
 "metadata": {
  "kernelspec": {
   "display_name": "Python 3.11.5 64-bit",
   "language": "python",
   "name": "python3"
  },
  "language_info": {
   "codemirror_mode": {
    "name": "ipython",
    "version": 3
   },
   "file_extension": ".py",
   "mimetype": "text/x-python",
   "name": "python",
   "nbconvert_exporter": "python",
   "pygments_lexer": "ipython3",
   "version": "3.11.5"
  },
  "vscode": {
   "interpreter": {
    "hash": "b0fa6594d8f4cbf19f97940f81e996739fb7646882a419484c72d19e05852a7e"
   }
  }
 },
 "nbformat": 4,
 "nbformat_minor": 5
}
